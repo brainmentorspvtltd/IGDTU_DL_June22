{
 "cells": [
  {
   "cell_type": "code",
   "execution_count": null,
   "id": "250e16ed",
   "metadata": {},
   "outputs": [],
   "source": [
    "!pip install opencv-python"
   ]
  },
  {
   "cell_type": "code",
   "execution_count": 1,
   "id": "95c1b2af",
   "metadata": {},
   "outputs": [],
   "source": [
    "import cv2"
   ]
  },
  {
   "cell_type": "code",
   "execution_count": 2,
   "id": "a7a7081b",
   "metadata": {},
   "outputs": [],
   "source": [
    "img = cv2.imread('test_img.jpg')"
   ]
  },
  {
   "cell_type": "code",
   "execution_count": 3,
   "id": "e36c8ee4",
   "metadata": {},
   "outputs": [
    {
     "data": {
      "text/plain": [
       "(720, 1280, 3)"
      ]
     },
     "execution_count": 3,
     "metadata": {},
     "output_type": "execute_result"
    }
   ],
   "source": [
    "img.shape"
   ]
  },
  {
   "cell_type": "code",
   "execution_count": 5,
   "id": "c7e17347",
   "metadata": {},
   "outputs": [
    {
     "data": {
      "text/plain": [
       "-1"
      ]
     },
     "execution_count": 5,
     "metadata": {},
     "output_type": "execute_result"
    }
   ],
   "source": [
    "cv2.imshow('res', img)\n",
    "cv2.waitKey(0)"
   ]
  },
  {
   "cell_type": "code",
   "execution_count": 7,
   "id": "2390547a",
   "metadata": {},
   "outputs": [],
   "source": [
    "# 0 - for default camera\n",
    "# 1 - secondary camera\n",
    "# cv2.VideoCapture(0)\n",
    "# cv2.VideoCapture('path_to_video')\n",
    "\n",
    "cap = cv2.VideoCapture(0)\n",
    "i = 0\n",
    "while True:\n",
    "    # flag - True or False\n",
    "    # flag is True if camera is available to use / there is no problem with camera\n",
    "    # frame - one frame at a time\n",
    "    flag, frame = cap.read()\n",
    "    if flag:\n",
    "        cv2.imwrite(f'images/img_{i}.png', frame)\n",
    "        cv2.imshow('result',frame)\n",
    "        # 27 - ASCII of escape\n",
    "        if cv2.waitKey(1) == 27:\n",
    "            break\n",
    "        i += 1\n",
    "    else:\n",
    "        print(\"Camera is not available...\")\n",
    "        break\n",
    "\n",
    "# will release the camera, so that we can use camera in some other application\n",
    "cap.release()\n",
    "cv2.destroyAllWindows()"
   ]
  },
  {
   "cell_type": "code",
   "execution_count": null,
   "id": "6cc80bd8",
   "metadata": {},
   "outputs": [],
   "source": []
  },
  {
   "cell_type": "code",
   "execution_count": null,
   "id": "e5172721",
   "metadata": {},
   "outputs": [],
   "source": []
  },
  {
   "cell_type": "code",
   "execution_count": 8,
   "id": "74d3623e",
   "metadata": {},
   "outputs": [],
   "source": [
    "# 0 - for default camera\n",
    "# 1 - secondary camera\n",
    "# cv2.VideoCapture(0)\n",
    "# cv2.VideoCapture('path_to_video')\n",
    "\n",
    "cap = cv2.VideoCapture(0)\n",
    "i = 0\n",
    "while True:\n",
    "    # flag - True or False\n",
    "    # flag is True if camera is available to use / there is no problem with camera\n",
    "    # frame - one frame at a time\n",
    "    flag, frame = cap.read()\n",
    "    blur = cv2.GaussianBlur(frame, (11,11), 0)\n",
    "    if flag:\n",
    "        cv2.imshow('orig result',frame)\n",
    "        cv2.imshow('blur result',blur)\n",
    "        # 27 - ASCII of escape\n",
    "        if cv2.waitKey(1) == 27:\n",
    "            break\n",
    "        i += 1\n",
    "    else:\n",
    "        print(\"Camera is not available...\")\n",
    "        break\n",
    "\n",
    "# will release the camera, so that we can use camera in some other application\n",
    "cap.release()\n",
    "cv2.destroyAllWindows()"
   ]
  },
  {
   "cell_type": "code",
   "execution_count": null,
   "id": "5e34f5fc",
   "metadata": {},
   "outputs": [],
   "source": []
  },
  {
   "cell_type": "code",
   "execution_count": null,
   "id": "b7bf7cfe",
   "metadata": {},
   "outputs": [],
   "source": []
  },
  {
   "cell_type": "code",
   "execution_count": 10,
   "id": "43c16385",
   "metadata": {},
   "outputs": [],
   "source": [
    "cap = cv2.VideoCapture(0)\n",
    "i = 0\n",
    "while True:\n",
    "    flag, frame = cap.read()\n",
    "    blur = cv2.GaussianBlur(frame, (11,11), 0)\n",
    "    gray = cv2.cvtColor(blur, cv2.COLOR_BGR2GRAY)\n",
    "    \n",
    "    # recommended to use blur first\n",
    "    # dx = 1, dy = 0 -> compute the 1st derivative sobel image in x-direction\n",
    "    # dx = 1, dy = 1 -> compute the 1st derivative sobel image in both directions\n",
    "    sobel_blur_1 = cv2.Sobel(gray, cv2.CV_64F, dx=1, dy=0, ksize=5)\n",
    "    sobel_blur_2 = cv2.Sobel(gray, cv2.CV_64F, dx=1, dy=1, ksize=5)\n",
    "    \n",
    "    canny_blur_1 = cv2.Canny(gray, 100, 200)\n",
    "    \n",
    "    if flag:\n",
    "        cv2.imshow('orig result',frame)\n",
    "        cv2.imshow('sobel blur_1', sobel_blur_1)\n",
    "        cv2.imshow('sobel blur_2', sobel_blur_2)\n",
    "        cv2.imshow('canny blur with edge', canny_blur_1)\n",
    "        if cv2.waitKey(1) == 27:\n",
    "            break\n",
    "        i += 1\n",
    "    else:\n",
    "        print(\"Camera is not available...\")\n",
    "        break\n",
    "\n",
    "cap.release()\n",
    "cv2.destroyAllWindows()"
   ]
  },
  {
   "cell_type": "code",
   "execution_count": null,
   "id": "55ec362f",
   "metadata": {},
   "outputs": [],
   "source": []
  }
 ],
 "metadata": {
  "kernelspec": {
   "display_name": "Python 3 (ipykernel)",
   "language": "python",
   "name": "python3"
  },
  "language_info": {
   "codemirror_mode": {
    "name": "ipython",
    "version": 3
   },
   "file_extension": ".py",
   "mimetype": "text/x-python",
   "name": "python",
   "nbconvert_exporter": "python",
   "pygments_lexer": "ipython3",
   "version": "3.9.7"
  }
 },
 "nbformat": 4,
 "nbformat_minor": 5
}
