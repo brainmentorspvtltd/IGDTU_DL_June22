{
  "nbformat": 4,
  "nbformat_minor": 0,
  "metadata": {
    "colab": {
      "name": "ANN_Introduction.ipynb",
      "provenance": [],
      "collapsed_sections": []
    },
    "kernelspec": {
      "name": "python3",
      "display_name": "Python 3"
    },
    "language_info": {
      "name": "python"
    }
  },
  "cells": [
    {
      "cell_type": "code",
      "execution_count": 1,
      "metadata": {
        "id": "FhTE50dkDg1V"
      },
      "outputs": [],
      "source": [
        "import numpy as np"
      ]
    },
    {
      "cell_type": "code",
      "source": [
        "X = np.array([[1,0,1,0], [1,0,1,1], [0,1,0,1]])\n",
        "y = np.array([[1],[1],[0]])"
      ],
      "metadata": {
        "id": "Q8pPpfBADoMg"
      },
      "execution_count": 2,
      "outputs": []
    },
    {
      "cell_type": "code",
      "source": [
        "X"
      ],
      "metadata": {
        "colab": {
          "base_uri": "https://localhost:8080/"
        },
        "id": "kxmkfKy1Dy1e",
        "outputId": "6e74fbba-daec-4e0b-e228-9f4223418d51"
      },
      "execution_count": 3,
      "outputs": [
        {
          "output_type": "execute_result",
          "data": {
            "text/plain": [
              "array([[1, 0, 1, 0],\n",
              "       [1, 0, 1, 1],\n",
              "       [0, 1, 0, 1]])"
            ]
          },
          "metadata": {},
          "execution_count": 3
        }
      ]
    },
    {
      "cell_type": "code",
      "source": [
        "y"
      ],
      "metadata": {
        "colab": {
          "base_uri": "https://localhost:8080/"
        },
        "id": "CGlM7FuiDzU-",
        "outputId": "fab15717-5521-4cd0-8261-32a3cc259f11"
      },
      "execution_count": 4,
      "outputs": [
        {
          "output_type": "execute_result",
          "data": {
            "text/plain": [
              "array([[1],\n",
              "       [1],\n",
              "       [0]])"
            ]
          },
          "metadata": {},
          "execution_count": 4
        }
      ]
    },
    {
      "cell_type": "code",
      "source": [
        "input_neurons = X.shape[1]\n",
        "hidden_neurons = 3\n",
        "output_neurons = 1"
      ],
      "metadata": {
        "id": "DsFRuj5HDzh5"
      },
      "execution_count": 5,
      "outputs": []
    },
    {
      "cell_type": "code",
      "source": [
        "def sigmoid(x):\n",
        "  return 1 / (1 + np.exp(-x))\n",
        "\n",
        "def derivativeSigmoid(x):\n",
        "  return x * (1 - x)"
      ],
      "metadata": {
        "id": "zUSfmEtbEAfh"
      },
      "execution_count": 6,
      "outputs": []
    },
    {
      "cell_type": "code",
      "source": [
        "weightHidden = np.random.uniform(size=(input_neurons, hidden_neurons))\n",
        "weightOutput = np.random.uniform(size=(hidden_neurons, output_neurons))\n",
        "biasHidden = np.random.uniform(size=(1, hidden_neurons))\n",
        "biasOutput = np.random.uniform(size=(1, output_neurons))"
      ],
      "metadata": {
        "id": "j_S0oW_IFePY"
      },
      "execution_count": 7,
      "outputs": []
    },
    {
      "cell_type": "code",
      "source": [
        "weightHidden"
      ],
      "metadata": {
        "colab": {
          "base_uri": "https://localhost:8080/"
        },
        "id": "NGa5-cR7HOUn",
        "outputId": "9f051f6f-b87d-4323-e87d-28757d741e3b"
      },
      "execution_count": 8,
      "outputs": [
        {
          "output_type": "execute_result",
          "data": {
            "text/plain": [
              "array([[0.20569817, 0.59202758, 0.90504767],\n",
              "       [0.09477154, 0.7685256 , 0.20820355],\n",
              "       [0.69974009, 0.73497072, 0.08907666],\n",
              "       [0.2476866 , 0.91468083, 0.76665341]])"
            ]
          },
          "metadata": {},
          "execution_count": 8
        }
      ]
    },
    {
      "cell_type": "code",
      "source": [
        "weightOutput"
      ],
      "metadata": {
        "colab": {
          "base_uri": "https://localhost:8080/"
        },
        "id": "3UnnP9BqHR9-",
        "outputId": "591ac7a7-bc83-4480-b296-5039e4fc5b91"
      },
      "execution_count": 9,
      "outputs": [
        {
          "output_type": "execute_result",
          "data": {
            "text/plain": [
              "array([[0.20763479],\n",
              "       [0.94638492],\n",
              "       [0.73792253]])"
            ]
          },
          "metadata": {},
          "execution_count": 9
        }
      ]
    },
    {
      "cell_type": "code",
      "source": [
        "epochs = 1000\n",
        "alpha = 0.01"
      ],
      "metadata": {
        "id": "IX0u0irZLzOI"
      },
      "execution_count": 25,
      "outputs": []
    },
    {
      "cell_type": "code",
      "source": [
        ""
      ],
      "metadata": {
        "id": "C9sedO7XLzEE"
      },
      "execution_count": null,
      "outputs": []
    },
    {
      "cell_type": "code",
      "source": [
        "fx = np.dot(X, weightHidden) + biasHidden"
      ],
      "metadata": {
        "id": "QApeQptpHUC6"
      },
      "execution_count": 10,
      "outputs": []
    },
    {
      "cell_type": "code",
      "source": [
        "fx"
      ],
      "metadata": {
        "colab": {
          "base_uri": "https://localhost:8080/"
        },
        "id": "-cXNGxqZH3hK",
        "outputId": "4f6aff0e-dc4c-49fd-9125-c596c8c4de62"
      },
      "execution_count": 11,
      "outputs": [
        {
          "output_type": "execute_result",
          "data": {
            "text/plain": [
              "array([[1.55556418, 1.46443314, 1.89222338],\n",
              "       [1.80325079, 2.37911397, 2.65887679],\n",
              "       [0.99258407, 1.82064126, 1.87295601]])"
            ]
          },
          "metadata": {},
          "execution_count": 11
        }
      ]
    },
    {
      "cell_type": "code",
      "source": [
        "hiddenLayer = sigmoid(fx)"
      ],
      "metadata": {
        "id": "cpmjlUffH4AP"
      },
      "execution_count": 12,
      "outputs": []
    },
    {
      "cell_type": "code",
      "source": [
        "hiddenLayer"
      ],
      "metadata": {
        "colab": {
          "base_uri": "https://localhost:8080/"
        },
        "id": "9ZxMJTbZH9dj",
        "outputId": "1a5caca1-bde4-418b-bbab-cfd7aa650849"
      },
      "execution_count": 13,
      "outputs": [
        {
          "output_type": "execute_result",
          "data": {
            "text/plain": [
              "array([[0.82571592, 0.81220978, 0.86900883],\n",
              "       [0.85854419, 0.91522071, 0.934556  ],\n",
              "       [0.72959802, 0.86064306, 0.86679994]])"
            ]
          },
          "metadata": {},
          "execution_count": 13
        }
      ]
    },
    {
      "cell_type": "code",
      "source": [
        "fx1 = np.dot(hiddenLayer, weightOutput) + biasOutput\n",
        "outputLayer = sigmoid(fx1)"
      ],
      "metadata": {
        "id": "bOLBokz5H_PQ"
      },
      "execution_count": 14,
      "outputs": []
    },
    {
      "cell_type": "code",
      "source": [
        "outputLayer"
      ],
      "metadata": {
        "colab": {
          "base_uri": "https://localhost:8080/"
        },
        "id": "bwAmB1OgIQSS",
        "outputId": "006b4bbb-3468-4b90-8e75-3a7f6cc8f1cc"
      },
      "execution_count": 15,
      "outputs": [
        {
          "output_type": "execute_result",
          "data": {
            "text/plain": [
              "array([[0.87023595],\n",
              "       [0.88652428],\n",
              "       [0.8729498 ]])"
            ]
          },
          "metadata": {},
          "execution_count": 15
        }
      ]
    },
    {
      "cell_type": "code",
      "source": [
        "# Error\n",
        "# Slope\n",
        "# Delta\n",
        "errorOutput = y - outputLayer"
      ],
      "metadata": {
        "id": "m-thOcNbIRzi"
      },
      "execution_count": 16,
      "outputs": []
    },
    {
      "cell_type": "code",
      "source": [
        "errorOutput"
      ],
      "metadata": {
        "colab": {
          "base_uri": "https://localhost:8080/"
        },
        "id": "3h4eafxuJwEm",
        "outputId": "34f9967f-ccc4-4447-c2d0-c77bee0d7603"
      },
      "execution_count": 17,
      "outputs": [
        {
          "output_type": "execute_result",
          "data": {
            "text/plain": [
              "array([[ 0.12976405],\n",
              "       [ 0.11347572],\n",
              "       [-0.8729498 ]])"
            ]
          },
          "metadata": {},
          "execution_count": 17
        }
      ]
    },
    {
      "cell_type": "code",
      "source": [
        "slopeOutput = derivativeSigmoid(outputLayer)"
      ],
      "metadata": {
        "id": "7EnvKjtSJxJV"
      },
      "execution_count": 18,
      "outputs": []
    },
    {
      "cell_type": "code",
      "source": [
        "slopeOutput"
      ],
      "metadata": {
        "colab": {
          "base_uri": "https://localhost:8080/"
        },
        "id": "u41y-ybhKCbs",
        "outputId": "eef2c1be-1438-4a0a-c433-f038e03cab90"
      },
      "execution_count": 19,
      "outputs": [
        {
          "output_type": "execute_result",
          "data": {
            "text/plain": [
              "array([[0.11292534],\n",
              "       [0.10059898],\n",
              "       [0.11090845]])"
            ]
          },
          "metadata": {},
          "execution_count": 19
        }
      ]
    },
    {
      "cell_type": "code",
      "source": [
        "deltaOutput = errorOutput * slopeOutput"
      ],
      "metadata": {
        "id": "EGLkLq06KDIV"
      },
      "execution_count": 20,
      "outputs": []
    },
    {
      "cell_type": "code",
      "source": [
        "deltaOutput"
      ],
      "metadata": {
        "colab": {
          "base_uri": "https://localhost:8080/"
        },
        "id": "0jid37TmKLLQ",
        "outputId": "8504942a-b4d2-4603-d0a7-6bea0ac21e53"
      },
      "execution_count": 21,
      "outputs": [
        {
          "output_type": "execute_result",
          "data": {
            "text/plain": [
              "array([[ 0.01465365],\n",
              "       [ 0.01141554],\n",
              "       [-0.09681751]])"
            ]
          },
          "metadata": {},
          "execution_count": 21
        }
      ]
    },
    {
      "cell_type": "code",
      "source": [
        "errorHidden = deltaOutput.dot(weightOutput.T)"
      ],
      "metadata": {
        "id": "60OM03UiKMnb"
      },
      "execution_count": 23,
      "outputs": []
    },
    {
      "cell_type": "code",
      "source": [
        "slopeHidden = derivativeSigmoid(hiddenLayer)\n",
        "deltaHidden = errorHidden * slopeHidden"
      ],
      "metadata": {
        "id": "OF394dawKeJT"
      },
      "execution_count": 24,
      "outputs": []
    },
    {
      "cell_type": "code",
      "source": [
        "weightOutput = weightOutput - hiddenLayer.T.dot(deltaOutput) * alpha"
      ],
      "metadata": {
        "id": "M7nrJgmXK2Pd"
      },
      "execution_count": 26,
      "outputs": []
    },
    {
      "cell_type": "code",
      "source": [
        "weightOutput"
      ],
      "metadata": {
        "colab": {
          "base_uri": "https://localhost:8080/"
        },
        "id": "lCo1nBWAL3pA",
        "outputId": "8b56b186-60c4-40b4-f42f-d05949badc87"
      },
      "execution_count": 27,
      "outputs": [
        {
          "output_type": "execute_result",
          "data": {
            "text/plain": [
              "array([[0.20812217],\n",
              "       [0.94699468],\n",
              "       [0.73852772]])"
            ]
          },
          "metadata": {},
          "execution_count": 27
        }
      ]
    },
    {
      "cell_type": "code",
      "source": [
        ""
      ],
      "metadata": {
        "id": "7mB3NUH-MWO0"
      },
      "execution_count": null,
      "outputs": []
    },
    {
      "cell_type": "code",
      "source": [
        "weightHidden = weightHidden -  X.T.dot(deltaHidden) * alpha"
      ],
      "metadata": {
        "id": "LrPD7CRPL5so"
      },
      "execution_count": 28,
      "outputs": []
    },
    {
      "cell_type": "code",
      "source": [
        "biasOutput = biasOutput - np.sum(deltaOutput) * alpha\n",
        "biasHidden = biasHidden - np.sum(deltaHidden) * alpha"
      ],
      "metadata": {
        "id": "2GOnaZcnME2t"
      },
      "execution_count": 29,
      "outputs": []
    },
    {
      "cell_type": "code",
      "source": [
        "weightHidden = np.random.uniform(size=(input_neurons, hidden_neurons))\n",
        "weightOutput = np.random.uniform(size=(hidden_neurons, output_neurons))\n",
        "biasHidden = np.random.uniform(size=(1, hidden_neurons))\n",
        "biasOutput = np.random.uniform(size=(1, output_neurons))\n",
        "\n",
        "epochs = 15000\n",
        "alpha = 0.01\n",
        "\n",
        "for i in range(epochs):\n",
        "  # Feedforward\n",
        "  fx = np.dot(X, weightHidden) + biasHidden\n",
        "  hiddenLayer = sigmoid(fx)\n",
        "  fx1 = np.dot(hiddenLayer, weightOutput) + biasOutput\n",
        "  outputLayer = sigmoid(fx1)\n",
        "\n",
        "  # Backpropagation\n",
        "  # Error\n",
        "  # Slope\n",
        "  # Delta\n",
        "  errorOutput = outputLayer - y\n",
        "  slopeOutput = derivativeSigmoid(outputLayer)\n",
        "  deltaOutput = errorOutput * slopeOutput\n",
        "\n",
        "  errorHidden = deltaOutput.dot(weightOutput.T)\n",
        "  slopeHidden = derivativeSigmoid(hiddenLayer)\n",
        "  deltaHidden = errorHidden * slopeHidden\n",
        "\n",
        "  # Optimization\n",
        "  weightOutput = weightOutput - hiddenLayer.T.dot(deltaOutput) * alpha\n",
        "  weightHidden = weightHidden -  X.T.dot(deltaHidden) * alpha\n",
        "  biasOutput = biasOutput - np.sum(deltaOutput) * alpha\n",
        "  biasHidden = biasHidden - np.sum(deltaHidden) * alpha"
      ],
      "metadata": {
        "id": "SLdtQ_GPMm9v"
      },
      "execution_count": 36,
      "outputs": []
    },
    {
      "cell_type": "code",
      "source": [
        "outputLayer"
      ],
      "metadata": {
        "colab": {
          "base_uri": "https://localhost:8080/"
        },
        "id": "TxNNoeTrO7S9",
        "outputId": "215ad563-3b4c-48af-d799-6a39d40c51ed"
      },
      "execution_count": 37,
      "outputs": [
        {
          "output_type": "execute_result",
          "data": {
            "text/plain": [
              "array([[0.9527918 ],\n",
              "       [0.92869834],\n",
              "       [0.09588762]])"
            ]
          },
          "metadata": {},
          "execution_count": 37
        }
      ]
    },
    {
      "cell_type": "code",
      "source": [
        ""
      ],
      "metadata": {
        "id": "BmlgPmHdO99j"
      },
      "execution_count": null,
      "outputs": []
    }
  ]
}