{
  "nbformat": 4,
  "nbformat_minor": 0,
  "metadata": {
    "colab": {
      "name": "TwitterAPI_Call.ipynb",
      "provenance": [],
      "collapsed_sections": []
    },
    "kernelspec": {
      "name": "python3",
      "display_name": "Python 3"
    },
    "language_info": {
      "name": "python"
    }
  },
  "cells": [
    {
      "cell_type": "code",
      "metadata": {
        "id": "uEffC-sVydMH"
      },
      "source": [
        "import tweepy"
      ],
      "execution_count": 2,
      "outputs": []
    },
    {
      "cell_type": "code",
      "metadata": {
        "id": "RXSyaTjHz2I9"
      },
      "source": [
        "import pandas as pd"
      ],
      "execution_count": 3,
      "outputs": []
    },
    {
      "cell_type": "code",
      "metadata": {
        "id": "oy7pjcae0A1P"
      },
      "source": [
        "consumer_key = \"qcdNZI6UhZTneINmN4pIqP7H2\"\n",
        "consumer_secret = \"U4SzPkZzIsnDQEGc6Th2X3saJDrYPSoEC0n8LjFfiZZ2uMckYc\"\n",
        "access_token = \"1396401069488435201-2sECmkxFkoDQLVTd3Qt2LJ4ytiGWhh\"\n",
        "access_secret = \"FlnK6Ilqst8R5Chu45J4asa31UaSUrWtkC3ZRJJNdy40A\""
      ],
      "execution_count": 1,
      "outputs": []
    },
    {
      "cell_type": "code",
      "metadata": {
        "id": "53sGKv2N0T5I"
      },
      "source": [
        "auth = tweepy.OAuthHandler(consumer_key, consumer_secret)\n",
        "auth.set_access_token(access_token, access_secret)\n",
        "api = tweepy.API(auth, wait_on_rate_limit=True)"
      ],
      "execution_count": 4,
      "outputs": []
    },
    {
      "cell_type": "code",
      "metadata": {
        "id": "mk2z3oA900FV"
      },
      "source": [
        "search = \"#dhoni\"\n",
        "date_since = \"2022-01-17\""
      ],
      "execution_count": 5,
      "outputs": []
    },
    {
      "cell_type": "code",
      "metadata": {
        "id": "FtD3NgiR1EAh"
      },
      "source": [
        "tweets = tweepy.Cursor(api.search, q=search, since=date_since).items(10)"
      ],
      "execution_count": 6,
      "outputs": []
    },
    {
      "cell_type": "code",
      "source": [
        "tweets"
      ],
      "metadata": {
        "id": "ISey3uKHa8MI",
        "outputId": "7e0f1e06-3316-4c14-b63f-327cc139a754",
        "colab": {
          "base_uri": "https://localhost:8080/"
        }
      },
      "execution_count": 7,
      "outputs": [
        {
          "output_type": "execute_result",
          "data": {
            "text/plain": [
              "<tweepy.cursor.ItemIterator at 0x7fa886d2d750>"
            ]
          },
          "metadata": {},
          "execution_count": 7
        }
      ]
    },
    {
      "cell_type": "code",
      "metadata": {
        "colab": {
          "base_uri": "https://localhost:8080/"
        },
        "id": "2VTj2e_I1TxJ",
        "outputId": "b5456b0a-fad3-4c2f-8e7a-3405c3d5ab04"
      },
      "source": [
        "for tw in tweets:\n",
        "  print(tw.text)"
      ],
      "execution_count": 8,
      "outputs": [
        {
          "output_type": "stream",
          "name": "stdout",
          "text": [
            "RT @TeluguMSDians: Latest snap bringing some Cuteness on Everyone's TL 😍💛\n",
            "\n",
            "#MSDhoni • @msdhoni • #Dhoni https://t.co/k4hjTaewrD\n",
            "@DhoniBestShots @msdhoni thank you for making it\n",
            "#dhoni\n",
            "RT @RjAnuragTiwari: Our Skipper Thalivaa 💛🏆\n",
            "\n",
            "#MSDhoni : #WhistlePodu : #Dhoni https://t.co/1dSiuS3MON\n",
            "RT @TeluguMSDians: Latest snap bringing some Cuteness on Everyone's TL 😍💛\n",
            "\n",
            "#MSDhoni • @msdhoni • #Dhoni https://t.co/k4hjTaewrD\n",
            "@AchuDevTweets @harshasherni @ranvijayT90 #kalashnikov\n",
            "@msdhoni #Dhoni https://t.co/01yN3oLnrD\n",
            "@ranvijayT90 @V_Shuddhi #kalashnikov \n",
            "@msdhoni #Dhoni https://t.co/xpRXyNlTd1\n",
            "Groin Injury :  ಚಿಕಿತ್ಸೆಗಾಗಿ ವಿದೇಶಕ್ಕೆ ತೆರಳಲಿರುವ ಕೆಎಲ್ ರಾಹುಲ್!\n",
            "\n",
            "#klrahul #viratkohli #rohitsharma #ipl #msdhoni… https://t.co/KldalSRU4F\n",
            "Recent Clicks of MS DHONI from JSCA stadium, Ranchi 😍\n",
            "#MSDhoni𓃵 #Dhoni @msdhoni https://t.co/wSN3T29zPv\n",
            "RT @TeluguMSDians: Latest snap bringing some Cuteness on Everyone's TL 😍💛\n",
            "\n",
            "#MSDhoni • @msdhoni • #Dhoni https://t.co/k4hjTaewrD\n",
            "RT @TeluguMSDians: Latest snap bringing some Cuteness on Everyone's TL 😍💛\n",
            "\n",
            "#MSDhoni • @msdhoni • #Dhoni https://t.co/k4hjTaewrD\n"
          ]
        }
      ]
    },
    {
      "cell_type": "code",
      "metadata": {
        "id": "eQeBM1Oy2zn5"
      },
      "source": [
        ""
      ],
      "execution_count": 9,
      "outputs": []
    },
    {
      "cell_type": "code",
      "metadata": {
        "id": "b_WDauJ94jXO"
      },
      "source": [
        ""
      ],
      "execution_count": null,
      "outputs": []
    }
  ]
}